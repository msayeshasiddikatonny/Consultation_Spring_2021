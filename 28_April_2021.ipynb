{
  "nbformat": 4,
  "nbformat_minor": 0,
  "metadata": {
    "colab": {
      "name": "28 April 2021.ipynb",
      "provenance": [],
      "authorship_tag": "ABX9TyOKojmGWEvAWMqIC81/XN4G",
      "include_colab_link": true
    },
    "kernelspec": {
      "name": "python3",
      "display_name": "Python 3"
    },
    "language_info": {
      "name": "python"
    }
  },
  "cells": [
    {
      "cell_type": "markdown",
      "metadata": {
        "id": "view-in-github",
        "colab_type": "text"
      },
      "source": [
        "<a href=\"https://colab.research.google.com/github/msayeshasiddikatonny/Consultation_Spring_2021/blob/main/28_April_2021.ipynb\" target=\"_parent\"><img src=\"https://colab.research.google.com/assets/colab-badge.svg\" alt=\"Open In Colab\"/></a>"
      ]
    },
    {
      "cell_type": "code",
      "metadata": {
        "colab": {
          "base_uri": "https://localhost:8080/"
        },
        "id": "2tF961AAjvMr",
        "outputId": "4a4ffeda-fed0-40ad-bd43-51708cbd4f0f"
      },
      "source": [
        "def make_square(a,b):\n",
        "  d={} \n",
        "  for i in range(a,b+1):\n",
        "    d[i]=i**2\n",
        "  return d\n",
        "\n",
        "print(make_square(1,3))"
      ],
      "execution_count": 1,
      "outputs": [
        {
          "output_type": "stream",
          "text": [
            "{1: 1, 2: 4, 3: 9}\n"
          ],
          "name": "stdout"
        }
      ]
    }
  ]
}