{
  "nbformat": 4,
  "nbformat_minor": 0,
  "metadata": {
    "colab": {
      "name": "10 April 2021.ipynb",
      "provenance": [],
      "authorship_tag": "ABX9TyMyu46mMoq07haM9EgCmlWH",
      "include_colab_link": true
    },
    "kernelspec": {
      "name": "python3",
      "display_name": "Python 3"
    },
    "language_info": {
      "name": "python"
    }
  },
  "cells": [
    {
      "cell_type": "markdown",
      "metadata": {
        "id": "view-in-github",
        "colab_type": "text"
      },
      "source": [
        "<a href=\"https://colab.research.google.com/github/msayeshasiddikatonny/Consultation_Spring_2021/blob/main/10_April_2021.ipynb\" target=\"_parent\"><img src=\"https://colab.research.google.com/assets/colab-badge.svg\" alt=\"Open In Colab\"/></a>"
      ]
    },
    {
      "cell_type": "code",
      "metadata": {
        "id": "sxyvOkbDhN0-"
      },
      "source": [
        "l=[2,8,9,4,5,7]\n",
        " \n",
        "for i in range(len(l)):\n",
        "    min=l[i]\n",
        "    min_ind=i\n",
        "     \n",
        "    for j in range (i+1,len(l)):\n",
        "       if l[j]<min:\n",
        "           min=l[j]\n",
        "           min_ind=j\n",
        "            \n",
        "    temp=l[i]\n",
        "    l[i]=min\n",
        "    l[min_ind]=temp\n",
        "    \n",
        "print(l)"
      ],
      "execution_count": null,
      "outputs": []
    }
  ]
}