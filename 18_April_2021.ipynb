{
  "nbformat": 4,
  "nbformat_minor": 0,
  "metadata": {
    "colab": {
      "name": "18 April 2021.ipynb",
      "provenance": [],
      "authorship_tag": "ABX9TyPRgrXIORHKSA4KntEBdiRu",
      "include_colab_link": true
    },
    "kernelspec": {
      "name": "python3",
      "display_name": "Python 3"
    },
    "language_info": {
      "name": "python"
    }
  },
  "cells": [
    {
      "cell_type": "markdown",
      "metadata": {
        "id": "view-in-github",
        "colab_type": "text"
      },
      "source": [
        "<a href=\"https://colab.research.google.com/github/msayeshasiddikatonny/Consultation_Spring_2021/blob/main/18_April_2021.ipynb\" target=\"_parent\"><img src=\"https://colab.research.google.com/assets/colab-badge.svg\" alt=\"Open In Colab\"/></a>"
      ]
    },
    {
      "cell_type": "code",
      "metadata": {
        "colab": {
          "base_uri": "https://localhost:8080/"
        },
        "id": "NCwkGwhRZeHS",
        "outputId": "04bbcfef-9289-4f40-f43b-dd1dc549b66c"
      },
      "source": [
        "#cse110_assign06_task8\n",
        "def show_palindromic_triangle(x):\n",
        "    for row in range (1,x+1):\n",
        "        for j in range (x-row,0,-1):\n",
        "          print(\" \",end=\"\")\n",
        "        for i in range(1,row+1):\n",
        "          print (i,end=\"\")\n",
        "        for i in range(row-1,0,-1):\n",
        "          print (i,end=\"\")\n",
        "        print()\n",
        "show_palindromic_triangle(3)"
      ],
      "execution_count": 1,
      "outputs": [
        {
          "output_type": "stream",
          "text": [
            "  1\n",
            " 121\n",
            "12321\n"
          ],
          "name": "stdout"
        }
      ]
    },
    {
      "cell_type": "code",
      "metadata": {
        "colab": {
          "base_uri": "https://localhost:8080/"
        },
        "id": "hqOPmpBXZv7z",
        "outputId": "aff53f9d-08ef-47dd-94f7-5f72e28cb540"
      },
      "source": [
        "#cse110_assign06_task7\n",
        "def palin(n):\n",
        "  s='' \n",
        "  for i in range(1,n+1):\n",
        "      s=s+str(i)#12345\n",
        "  for i in range(n-1,0,-1):\n",
        "      s=s+str(i)\n",
        "  return s\n",
        "\n",
        "print(palin(5))"
      ],
      "execution_count": 2,
      "outputs": [
        {
          "output_type": "stream",
          "text": [
            "123454321\n"
          ],
          "name": "stdout"
        }
      ]
    }
  ]
}