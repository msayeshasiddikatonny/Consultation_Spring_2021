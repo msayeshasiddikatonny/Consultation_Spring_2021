{
  "nbformat": 4,
  "nbformat_minor": 0,
  "metadata": {
    "colab": {
      "name": "10 April 2021.ipynb",
      "provenance": [],
      "authorship_tag": "ABX9TyM7pg/zCcURRqMdfMxdhTWb",
      "include_colab_link": true
    },
    "kernelspec": {
      "name": "python3",
      "display_name": "Python 3"
    },
    "language_info": {
      "name": "python"
    }
  },
  "cells": [
    {
      "cell_type": "markdown",
      "metadata": {
        "id": "view-in-github",
        "colab_type": "text"
      },
      "source": [
        "<a href=\"https://colab.research.google.com/github/msayeshasiddikatonny/Consultation_Spring_2021/blob/main/10_April_2021.ipynb\" target=\"_parent\"><img src=\"https://colab.research.google.com/assets/colab-badge.svg\" alt=\"Open In Colab\"/></a>"
      ]
    },
    {
      "cell_type": "markdown",
      "metadata": {
        "id": "C3qIDoCGkM6i"
      },
      "source": [
        "Task 5\n",
        "\n",
        "Create an Employee Class that will have\n",
        "● Two instance variable: name and workingPeriod\n",
        "● A class method named employeeByJoiningYear():\n",
        "o To create an Employee object by joining year for calculating the working\n",
        "period\n",
        "o It will have two Parameter name and year\n",
        "● A static method experienceCheck() to check if an Employee is experienced or not\n",
        "o It will take working period and gender as parameter\n",
        "o If an employee’s working period is less than 3, he or she is not experienced\n",
        "\n",
        "[You are not allowed to change the code below]\n",
        "# Write your code here\n",
        "employee1 = Employee('Dororo', 3)\n",
        "employee2 = Employee.employeeByJoiningYear('Harry', 2016)\n",
        "print(employee1.workingPeriod)\n",
        "print(employee2.workingPeriod)\n",
        "print(employee1.name)\n",
        "print(employee2.name)\n",
        "print(Employee.experienceCheck(2, \"male\"))\n",
        "print(Employee.experienceCheck(3, \"female\"))\n",
        "\n",
        "Output\n",
        "3\n",
        "5\n",
        "Dororo\n",
        "Harry\n",
        "He is not experienced\n",
        "She is experienced"
      ]
    },
    {
      "cell_type": "code",
      "metadata": {
        "colab": {
          "base_uri": "https://localhost:8080/"
        },
        "id": "jXbxDoXJ6p6X",
        "outputId": "a71213d1-32b8-4131-8c4d-0643225e6357"
      },
      "source": [
        "#Cse111_Assign06_task 5\n",
        "class Employee:\n",
        "    def __init__(self,name,workingPeriod):\n",
        "        self.name=name\n",
        "        self.workingPeriod=workingPeriod\n",
        "     \n",
        "    def employeeByJoiningYear( name,year):\n",
        "        t=2021-year\n",
        "        obj=Employee(name,t)\n",
        "        return obj\n",
        "     \n",
        "    def experienceCheck(working_period,gender):\n",
        "        if gender=='male':\n",
        "           s='He'\n",
        "        else:\n",
        "           s='she'\n",
        "        if working_period<3:\n",
        "            return s +' is not experienced' \n",
        "        else:\n",
        "            return s+\" is expericnced\"\n",
        "employee1 = Employee('Dororo', 3)\n",
        "employee2 = Employee.employeeByJoiningYear('Harry', 2016)\n",
        "print(employee1.workingPeriod)\n",
        "print(employee2.workingPeriod)\n",
        "print(employee1.name)\n",
        "print(employee2.name)\n",
        "print(Employee.experienceCheck(2, \"male\"))\n",
        "print(Employee.experienceCheck(3, \"female\"))"
      ],
      "execution_count": null,
      "outputs": [
        {
          "output_type": "stream",
          "text": [
            "3\n",
            "5\n",
            "Dororo\n",
            "Harry\n",
            "He is not experienced\n",
            "she is expericnced\n"
          ],
          "name": "stdout"
        }
      ]
    },
    {
      "cell_type": "markdown",
      "metadata": {
        "id": "hbZPzxwKlMMA"
      },
      "source": [
        "Task 12\n",
        "Suppose you are given the following dictionary where the values are lists.\n",
        "\n",
        "dict = {'A': [1, 2, 3], 'b': ['1', '2'], \"c\": [4, 5, 6, 7]}\n",
        "\n",
        "Write a Python program that counts the total number of items in a dictionary’s values and prints it. [without using sum(), len(), count() functions]\n",
        "\n",
        "Note: Make changes to the above dictionary and see if your code works properly for other dictionaries as well.\n",
        "\n",
        "===================================================================\n",
        "\n",
        "Output:\n",
        "\n",
        "9\n",
        "\n",
        "==================================================================="
      ]
    },
    {
      "cell_type": "code",
      "metadata": {
        "colab": {
          "base_uri": "https://localhost:8080/"
        },
        "id": "96WiO6q1AWu6",
        "outputId": "08371cea-3c70-432b-d2fa-77183dbf11be"
      },
      "source": [
        "#CSE110_task12_ass05\n",
        "di = {'A': [1, 2, 3], 'b': ['1', '2'], \"c\": [4, 5, 6, 7]}\n",
        "\n",
        "count=0\n",
        "for k in di :\n",
        "     \n",
        "    for val in di[k]  :\n",
        "       \n",
        "        count= count +1\n",
        "\n",
        "print(count)"
      ],
      "execution_count": 1,
      "outputs": [
        {
          "output_type": "stream",
          "text": [
            "9\n"
          ],
          "name": "stdout"
        }
      ]
    }
  ]
}