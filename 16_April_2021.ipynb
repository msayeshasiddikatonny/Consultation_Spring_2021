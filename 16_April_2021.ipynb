{
  "nbformat": 4,
  "nbformat_minor": 0,
  "metadata": {
    "colab": {
      "name": "16 April 2021.ipynb",
      "provenance": [],
      "collapsed_sections": [],
      "authorship_tag": "ABX9TyM1qsGzDZHzdNB0Ts9+YdaI",
      "include_colab_link": true
    },
    "kernelspec": {
      "name": "python3",
      "display_name": "Python 3"
    },
    "language_info": {
      "name": "python"
    }
  },
  "cells": [
    {
      "cell_type": "markdown",
      "metadata": {
        "id": "view-in-github",
        "colab_type": "text"
      },
      "source": [
        "<a href=\"https://colab.research.google.com/github/msayeshasiddikatonny/Consultation_Spring_2021/blob/main/16_April_2021.ipynb\" target=\"_parent\"><img src=\"https://colab.research.google.com/assets/colab-badge.svg\" alt=\"Open In Colab\"/></a>"
      ]
    },
    {
      "cell_type": "code",
      "metadata": {
        "colab": {
          "base_uri": "https://localhost:8080/"
        },
        "id": "fZFWAyEXjH7v",
        "outputId": "2954cbea-c7a1-438a-d622-76bafaf0b5d0"
      },
      "source": [
        "def fibon(temp):\n",
        "\n",
        "  num_1=0\n",
        "  num_2=1\n",
        "  t=0\n",
        "  #print(s,end=(\" \"))\n",
        "\n",
        "  #print(num_2,end=(\" \"))\n",
        "  while num_2<temp:\n",
        "\n",
        "    print(t,end=(\" \"))\n",
        "\n",
        "    num_1=num_2\n",
        "    num_2=t\n",
        "\n",
        "    t=(num_1+num_2)\n",
        "N=int(input(\"enter a number\"))\n",
        "fibon(N)"
      ],
      "execution_count": 1,
      "outputs": [
        {
          "output_type": "stream",
          "text": [
            "enter a number5\n",
            "0 1 1 2 3 5 "
          ],
          "name": "stdout"
        }
      ]
    }
  ]
}