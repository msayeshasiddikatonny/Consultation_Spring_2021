{
  "nbformat": 4,
  "nbformat_minor": 0,
  "metadata": {
    "colab": {
      "name": " 2nd April 2021.ipynb",
      "provenance": [],
      "authorship_tag": "ABX9TyOmdCJ4w6o3O6/HHsFC3QIg",
      "include_colab_link": true
    },
    "kernelspec": {
      "name": "python3",
      "display_name": "Python 3"
    },
    "language_info": {
      "name": "python"
    }
  },
  "cells": [
    {
      "cell_type": "markdown",
      "metadata": {
        "id": "view-in-github",
        "colab_type": "text"
      },
      "source": [
        "<a href=\"https://colab.research.google.com/github/msayeshasiddikatonny/Consultation_Spring_2021/blob/main/2nd_April_2021.ipynb\" target=\"_parent\"><img src=\"https://colab.research.google.com/assets/colab-badge.svg\" alt=\"Open In Colab\"/></a>"
      ]
    },
    {
      "cell_type": "code",
      "metadata": {
        "colab": {
          "base_uri": "https://localhost:8080/"
        },
        "id": "2oygV0b1HCWn",
        "outputId": "5ccba8f0-b1a6-4479-8d6a-23afe234b25a"
      },
      "source": [
        "'''\n",
        "Write a function calculation() such that it can accept two variables and calculate the addition and subtraction \n",
        "of them. And also it must return both addition and subtraction in a single return call\n",
        "'''\n",
        "def calculation(a,b):\n",
        "    x=a+b\n",
        "    y=a-b\n",
        "    return x,y \n",
        "\n",
        "f,g=(calculation(5,3))\n",
        "print(\"add\",f)\n",
        "print(\"sub\",g)\n",
        "\n"
      ],
      "execution_count": 9,
      "outputs": [
        {
          "output_type": "stream",
          "text": [
            "add 8\n",
            "sub 2\n"
          ],
          "name": "stdout"
        }
      ]
    },
    {
      "cell_type": "code",
      "metadata": {
        "colab": {
          "base_uri": "https://localhost:8080/"
        },
        "id": "VHpnf5ZHHFnc",
        "outputId": "72ead819-986d-459a-dfb5-639ff5d2bf5d"
      },
      "source": [
        "'''\n",
        "Create a function showEmployee() in such a way that it should accept employee name, and its salary and display both. \n",
        "If the salary is missing in the function call assign default value 9000 to salary\n",
        "\n",
        "'''\n",
        "def showEmployee(name,salary=9000):\n",
        "     if salary==None:\n",
        "       print (\"Employee \",name,\"Salary\",9000)\n",
        "\n",
        "     else:\n",
        "\n",
        "       print (\"Employee \",name,\"Salary\", salary)\n",
        "\n",
        "showEmployee(\"Ben\", 5000)\n",
        "showEmployee(\"Ren\")"
      ],
      "execution_count": 8,
      "outputs": [
        {
          "output_type": "stream",
          "text": [
            "Employee  Ben Salary 5000\n",
            "Employee  Ren Salary 9000\n"
          ],
          "name": "stdout"
        }
      ]
    },
    {
      "cell_type": "code",
      "metadata": {
        "colab": {
          "base_uri": "https://localhost:8080/",
          "height": 341
        },
        "id": "fqPTiR42LIb2",
        "outputId": "963649de-7b67-489c-8682-b288be033e70"
      },
      "source": [
        "class Department:\n",
        "    def __init__(self, s):\n",
        "        self.semester = s\n",
        "        self.name = \"Default\"\n",
        "        self.id = -1\n",
        "    def student_info(self):\n",
        "        print(\"Name:\", self.name)\n",
        "        print(\"ID:\", self.id)\n",
        "    def courses(self, c1, c2, c3):\n",
        "        print(\"No courses Approved yet!\")\n",
        "        \n",
        "class CSE(Department):\n",
        "    def __init__(self,name,id1,sem):\n",
        "        self.name=name\n",
        "        self.id1=id1\n",
        "        super().__init__(sem)\n",
        "    def student_info(self):\n",
        "        super().student_info()\n",
        "        print('Courses Approved to this CSE student in '+self.semester+'semester ')\n",
        "    \n",
        "    def course(self,c1,c2,c3):\n",
        "            self.c1=c1\n",
        "            self.c2=c2\n",
        "            self.c3=c3\n",
        "            print(str(self.c1)+'\\n'+str(self.c2)+'\\n'+str(self.c3))\n",
        "class EEE(Department):\n",
        "    def __init__(self,name,id1,sem):\n",
        "        self.name=name\n",
        "        self.id1=id1\n",
        "        super().__init__(sem)\n",
        "    def student_info(self):\n",
        "        print('Courses Approved to this EEE student in '+self.semester+'semester ')\n",
        "    \n",
        "    def course(self,c1,c2,c3):\n",
        "            self.c1=c1\n",
        "            self.c2=c2\n",
        "            self.c3=c3\n",
        "            print(str(self.c1)+'\\n'+str(self.c2)+'\\n'+str(self.c3))\n",
        "    \n",
        "    \n",
        "    \n",
        "    \n",
        "s1 = CSE(\"Rahim\", 16101328,\"Spring2016\")\n",
        "s1.student_info()\n",
        "s1.courses(\"CSE110\", \"MAT110\", \"ENG101\")\n",
        "print(\"==================\")\n",
        "s2 = EEE(\"Tanzim\", 18101326, \"Spring2018\")\n",
        "s2.student_info()\n",
        "s2.courses(\"Mat110\", \"PHY111\", \"ENG101\")\n",
        "print(\"==================\")\n",
        "s3 = CSE(\"Rudana\", 18101326, \"Fall2017\")\n",
        "s3.student_info()\n",
        "s3.courses(\"CSE111\", \"PHY101\", \"MAT120\")\n",
        "print(\"==================\")\n",
        "s4 = EEE(\"Zainab\", 19201623, \"Summer2019\")\n",
        "s4.student_info()\n",
        "s4.courses(\"EEE201\", \"PHY112\", \"MAT120\")\n",
        "'''\n",
        "Name: Rahim\n",
        "ID: 16101328\n",
        "Courses Approved to this CSE student in Spring2016 semester :\n",
        "CSE110\n",
        "MAT110\n",
        "ENG101\n",
        "==================\n",
        "Name: Tanzim\n",
        "ID: 18101326\n",
        "Courses Approved to this EEE student in Spring2018 semester :\n",
        "Mat110\n",
        "PHY111\n",
        "ENG101\n",
        "==================\n",
        "Name: Rudana\n",
        "ID: 18101326\n",
        "Courses Approved to this CSE student in Fall2017 semester :\n",
        "CSE111\n",
        "PHY101\n",
        "MAT120\n",
        "==================\n",
        "Name: Zainab\n",
        "ID: 19201623\n",
        "Courses Approved to this EEE student in Summer2019 semester :\n",
        "EEE201\n",
        "PHY112\n",
        "MAT120\n",
        "'''"
      ],
      "execution_count": 15,
      "outputs": [
        {
          "output_type": "stream",
          "text": [
            "Name: Default\n",
            "ID: -1\n",
            "Courses Approved to this CSE student in Spring2016semester \n",
            "No courses Approved yet!\n",
            "==================\n",
            "Courses Approved to this EEE student in Spring2018semester \n",
            "No courses Approved yet!\n",
            "==================\n",
            "Name: Default\n",
            "ID: -1\n",
            "Courses Approved to this CSE student in Fall2017semester \n",
            "No courses Approved yet!\n",
            "==================\n",
            "Courses Approved to this EEE student in Summer2019semester \n",
            "No courses Approved yet!\n"
          ],
          "name": "stdout"
        },
        {
          "output_type": "execute_result",
          "data": {
            "application/vnd.google.colaboratory.intrinsic+json": {
              "type": "string"
            },
            "text/plain": [
              "'\\nName: Rahim\\nID: 16101328\\nCourses Approved to this CSE student in Spring2016 semester :\\nCSE110\\nMAT110\\nENG101\\n==================\\nName: Tanzim\\nID: 18101326\\nCourses Approved to this EEE student in Spring2018 semester :\\nMat110\\nPHY111\\nENG101\\n==================\\nName: Rudana\\nID: 18101326\\nCourses Approved to this CSE student in Fall2017 semester :\\nCSE111\\nPHY101\\nMAT120\\n==================\\nName: Zainab\\nID: 19201623\\nCourses Approved to this EEE student in Summer2019 semester :\\nEEE201\\nPHY112\\nMAT120\\n'"
            ]
          },
          "metadata": {
            "tags": []
          },
          "execution_count": 15
        }
      ]
    }
  ]
}