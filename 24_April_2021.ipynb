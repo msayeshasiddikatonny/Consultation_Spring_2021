{
  "nbformat": 4,
  "nbformat_minor": 0,
  "metadata": {
    "colab": {
      "name": "24 April 2021.ipynb",
      "provenance": [],
      "authorship_tag": "ABX9TyOtw+7piWnsAA9rtKgIBcMe",
      "include_colab_link": true
    },
    "kernelspec": {
      "name": "python3",
      "display_name": "Python 3"
    },
    "language_info": {
      "name": "python"
    }
  },
  "cells": [
    {
      "cell_type": "markdown",
      "metadata": {
        "id": "view-in-github",
        "colab_type": "text"
      },
      "source": [
        "<a href=\"https://colab.research.google.com/github/msayeshasiddikatonny/Consultation_Spring_2021/blob/main/24_April_2021.ipynb\" target=\"_parent\"><img src=\"https://colab.research.google.com/assets/colab-badge.svg\" alt=\"Open In Colab\"/></a>"
      ]
    },
    {
      "cell_type": "code",
      "metadata": {
        "colab": {
          "base_uri": "https://localhost:8080/"
        },
        "id": "7EteDXaj8Rbz",
        "outputId": "6567f27f-f522-4efb-9865-0ea0b97f2487"
      },
      "source": [
        "dic_count={}\n",
        "s='2334528988125'\n",
        "for i in s:\n",
        "  n=int(i)\n",
        "  if n in dic_count:\n",
        "    dic_count[n].append(n)\n",
        "  else:\n",
        "    dic_count[n]=[n]\n",
        "print(dic_count)"
      ],
      "execution_count": 2,
      "outputs": [
        {
          "output_type": "stream",
          "text": [
            "{2: [2, 2, 2], 3: [3, 3], 4: [4], 5: [5, 5], 8: [8, 8, 8], 9: [9], 1: [1]}\n"
          ],
          "name": "stdout"
        }
      ]
    }
  ]
}